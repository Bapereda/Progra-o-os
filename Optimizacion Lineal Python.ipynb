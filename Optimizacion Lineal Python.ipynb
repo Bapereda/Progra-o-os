{
 "cells": [
  {
   "cell_type": "markdown",
   "metadata": {},
   "source": [
    "## Optimización Lineal \n",
    "Max. z = 2.000 c + 2.000 s \n",
    "\n",
    "s.a: c + s ≥ 100 producción mínima de cobre; \n",
    "\n",
    "0,96 c + 0,9 s ≥ 0,93 (c + s) grado de pureza;\n",
    "\n",
    "10 c + 14 s ≤ 12 (c + s) rapidez entrega;\n",
    "\n",
    "5 c + 15 s ≤ 1.500 contaminación; \n",
    "\n",
    "c + s ≤ 220 accidentes; \n",
    "\n",
    "c ≤ 150; s ≤ 80 capacidad máxima; \n",
    "\n",
    "c ≥ 30; s ≥ 40 capacidad mínima \n",
    " "
   ]
  },
  {
   "cell_type": "code",
   "execution_count": 9,
   "metadata": {},
   "outputs": [
    {
     "name": "stdout",
     "output_type": "stream",
     "text": [
      "     pcost       dcost       gap    pres   dres   k/t\n",
      " 0: -3.0712e+05 -9.1219e+05  1e+05  4e-03  2e+00  1e+00\n",
      " 1: -4.0034e+05 -1.2410e+06  3e+05  5e-03  3e+00  7e+03\n",
      " 2: -3.9917e+05 -4.4123e+05  1e+04  3e-04  1e-01  3e+02\n",
      " 3: -3.9998e+05 -4.0051e+05  1e+02  3e-06  2e-03  4e+00\n",
      " 4: -4.0000e+05 -4.0001e+05  1e+00  3e-08  2e-05  4e-02\n",
      " 5: -4.0000e+05 -4.0000e+05  1e-02  3e-10  2e-07  4e-04\n",
      " 6: -4.0000e+05 -4.0000e+05  1e-04  3e-12  2e-09  4e-06\n",
      "Optimal solution found.\n",
      "nEstado: optimal\n",
      "Valor óptimo: 400000\n",
      "Óptimo c: 150\n",
      "Óptimo s: 50\n"
     ]
    }
   ],
   "source": [
    "from cvxopt.modeling import variable, op\n",
    "import matplotlib.pyplot as plt\n",
    "import numpy as np\n",
    "\n",
    "c = variable()\n",
    "s = variable()\n",
    "r1 = (c + s >= 100)\n",
    "r2 = (0.96*c + 0.9*s >= 0.93*(c+s))\n",
    "r3 = (10*c + 14*s <= 12*(c+s))\n",
    "r4 = (5*c + 15*s <= 1500)\n",
    "r5 = (c + s <= 220)\n",
    "r6 = (c <= 150)\n",
    "r7 = (s <= 80)\n",
    "r8 = (c >= 30)\n",
    "r9 = (s >= 40)\n",
    "lp1 = op(-2000*c + -2000*s, [r1, r2, r3, r4, r5, r6, r7, r8, r9])\n",
    "lp1.solve()\n",
    "\n",
    "print('nEstado: {}'.format(lp1.status))\n",
    "print('Valor óptimo: {}'.format(-round(lp1.objective.value()[0])))\n",
    "print('Óptimo c: {}'.format(round(c.value[0])))\n",
    "print('Óptimo s: {}'.format(round(s.value[0])))\n",
    "\n",
    "\n"
   ]
  },
  {
   "cell_type": "code",
   "execution_count": null,
   "metadata": {},
   "outputs": [],
   "source": []
  }
 ],
 "metadata": {
  "kernelspec": {
   "display_name": "Python 3",
   "language": "python",
   "name": "python3"
  },
  "language_info": {
   "codemirror_mode": {
    "name": "ipython",
    "version": 3
   },
   "file_extension": ".py",
   "mimetype": "text/x-python",
   "name": "python",
   "nbconvert_exporter": "python",
   "pygments_lexer": "ipython3",
   "version": "3.8.3"
  }
 },
 "nbformat": 4,
 "nbformat_minor": 4
}
